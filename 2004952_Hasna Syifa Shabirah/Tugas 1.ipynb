#NIM    : 2004952
#Nama   : Hasna Syifa Shabirah
#Kelas  : PILKOM 5A

#fungsi didefinisikan
def newton_raphson(f, df, x0, e):

    print("Nilai xn: ", x0)

    if abs(f(x0)) < e:  
        return x0
    else:
        xn = x0 - f(x0)/df(x0)
        return newton_raphson(f, df, xn, e)


#lamda sebagai ekspresi ketika membuat fungsi  
#fx0
fx = lambda x: ((x**2)-(2*x)-8)

#f'(x)0
f_prime = lambda x: 2*x - 2

#membuat nilai tebakan awal x0
n = float(input())

#1e-3 -> 10**3 -> 0,001
estimate = newton_raphson(fx, f_prime, n, 1e-3)

#estimate = x0
print("estimate =", estimate)
