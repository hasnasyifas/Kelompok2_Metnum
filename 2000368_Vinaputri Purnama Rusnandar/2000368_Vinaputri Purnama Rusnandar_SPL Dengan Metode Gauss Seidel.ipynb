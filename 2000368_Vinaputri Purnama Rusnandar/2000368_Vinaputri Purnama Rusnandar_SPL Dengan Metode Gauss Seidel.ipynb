{
  "cells": [
    {
      "cell_type": "code",
      "execution_count": 1,
      "metadata": {
        "colab": {
          "base_uri": "https://localhost:8080/"
        },
        "id": "dLXJjJoTWHx3",
        "outputId": "76af485d-7830-4714-db2b-a9b2e2ef9a2c"
      },
      "outputs": [
        {
          "output_type": "stream",
          "name": "stdout",
          "text": [
            "Enter tolerable error: 5\n",
            "\n",
            "Count\tx\ty\tz\n",
            "\n",
            "1\t0.8500\t-1.0275\t1.0109\n",
            "\n",
            "\n",
            "Solution: x=0.850, y=-1.028 and z = 1.011\n",
            "\n"
          ]
        }
      ],
      "source": [
        "# Nama : Vinaputri Purnama Rusnandar\n",
        "# NIM  : 2000368\n",
        "# Kelompok 2 - SPL Dengan Metode Gauss Seidel\n",
        "\n",
        "# Defini Matriks yang akan diselesaikan\n",
        "f1 = lambda x, y, z: (17 - y + 2 * z) / 20\n",
        "f2 = lambda x, y, z: (-18 - 3 * x + z) / 20\n",
        "f3 = lambda x, y, z: (25 - 2 * x + 3 * y) / 20\n",
        "\n",
        "# Initial setup\n",
        "x0 = 0\n",
        "y0 = 0\n",
        "z0 = 0\n",
        "count = 1\n",
        "\n",
        "# Memasukkan nilai Galat yang diinginkan\n",
        "e = float(input('Enter tolerable error: '))\n",
        "\n",
        "# Implementasi Gauss Seidel\n",
        "print('\\nCount\\tx\\ty\\tz\\n')\n",
        "\n",
        "condition = True\n",
        "\n",
        "while condition:\n",
        "    x1 = f1(x0, y0, z0)\n",
        "    y1 = f2(x1, y0, z0)\n",
        "    z1 = f3(x1, y1, z0)\n",
        "    print('%d\\t%0.4f\\t%0.4f\\t%0.4f\\n' % (count, x1, y1, z1))\n",
        "    e1 = abs(x0 - x1);\n",
        "    e2 = abs(y0 - y1);\n",
        "    e3 = abs(z0 - z1);\n",
        "\n",
        "    count += 1\n",
        "    x0 = x1\n",
        "    y0 = y1\n",
        "    z0 = z1\n",
        "\n",
        "    condition = e1 > e and e2 > e and e3 > e\n",
        "\n",
        "#Print Output penyelesaian\n",
        "print('\\nSolution: x=%0.3f, y=%0.3f and z = %0.3f\\n' % (x1, y1, z1))\n",
        "     "
      ]
    }
  ],
  "metadata": {
    "colab": {
      "provenance": []
    },
    "kernelspec": {
      "display_name": "Python 3.10.8 64-bit (microsoft store)",
      "language": "python",
      "name": "python3"
    },
    "language_info": {
      "codemirror_mode": {
        "name": "ipython",
        "version": 3
      },
      "file_extension": ".py",
      "mimetype": "text/x-python",
      "name": "python",
      "nbconvert_exporter": "python",
      "pygments_lexer": "ipython3",
      "version": "3.10.8"
    },
    "vscode": {
      "interpreter": {
        "hash": "ba37d69516b96b2df66115ef342e83722e1a1518f5d2e0ee41eb08141fa2fe2a"
      }
    }
  },
  "nbformat": 4,
  "nbformat_minor": 0
}