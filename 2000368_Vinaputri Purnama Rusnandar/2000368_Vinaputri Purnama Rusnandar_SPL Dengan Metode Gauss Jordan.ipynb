{
  "cells": [
    {
      "cell_type": "code",
      "execution_count": null,
      "metadata": {
        "colab": {
          "base_uri": "https://localhost:8080/"
        },
        "id": "dLXJjJoTWHx3",
        "outputId": "8aff9cc8-3990-4977-aff8-ed85fd8d1c0f"
      },
      "outputs": [],
      "source": [
        "# Nama : Vinaputri Purnama Rusnandar\n",
        "# NIM  : 2000368\n",
        "# Kelompok 2 - SPL Dengan Metode Gauss Jordan \n",
        "\n",
        "from numpy import*\n",
        "\n",
        "#Inisialisasi Matriks\n",
        "A = array([[1,1,0,3,4],\n",
        "           [2,1,-1,1,1],\n",
        "           [3,-1,-1,2,-3],\n",
        "           [-1,2,3,-1,4]])\n",
        "print (\"Matriks A= \\n\",A)\n",
        "\n",
        "#METODE ELIMINASI GAUSS\n",
        "n=len(A)\n",
        "\n",
        "#Proses Triangulasi\n",
        "for k in range(0,n-1):\n",
        "    for i in range(k+1,n):\n",
        "        m=A[i][k]/A[k][k]\n",
        "        for j in range(0,n+1):\n",
        "            A[i][j]=A[i][j]-m*A[k][j]\n",
        "            \n",
        "#Proses Subtitusi Mundur\n",
        "X = zeros((n,1))\n",
        "X[n-1][0]=A[n-1][n]/A[n-1][n-1]\n",
        "for j in range(n-2,-1,-1):\n",
        "    S=0\n",
        "    for i in range(j+1,n):\n",
        "        S=S+A[j][i]*X[i][0]\n",
        "        X[j][0]=(A[j][n]-S)/A[j][j]\n",
        "\n",
        "#Hasil\n",
        "print (\"X= \\n\",X)"
      ]
    }
  ],
  "metadata": {
    "colab": {
      "collapsed_sections": [],
      "provenance": []
    },
    "kernelspec": {
      "display_name": "Python 3.10.8 64-bit (microsoft store)",
      "language": "python",
      "name": "python3"
    },
    "language_info": {
      "codemirror_mode": {
        "name": "ipython",
        "version": 3
      },
      "file_extension": ".py",
      "mimetype": "text/x-python",
      "name": "python",
      "nbconvert_exporter": "python",
      "pygments_lexer": "ipython3",
      "version": "3.10.8"
    },
    "vscode": {
      "interpreter": {
        "hash": "ba37d69516b96b2df66115ef342e83722e1a1518f5d2e0ee41eb08141fa2fe2a"
      }
    }
  },
  "nbformat": 4,
  "nbformat_minor": 0
}
