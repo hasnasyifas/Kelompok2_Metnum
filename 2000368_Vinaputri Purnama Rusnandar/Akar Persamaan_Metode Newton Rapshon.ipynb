{
  "cells": [
    {
      "cell_type": "code",
      "execution_count": 1,
      "metadata": {
        "colab": {
          "base_uri": "https://localhost:8080/"
        },
        "id": "dLXJjJoTWHx3",
        "outputId": "8aff9cc8-3990-4977-aff8-ed85fd8d1c0f"
      },
      "outputs": [
        {
          "name": "stdout",
          "output_type": "stream",
          "text": [
            "Nilai xi:  5.0\n",
            "Nilai xi:  10.23076923076923\n",
            "Nilai xi:  9.064564943253469\n",
            "Nilai xi:  9.00019729311712\n",
            "Nilai xi:  9.000000001853516\n",
            "estimate = 9.000\n"
          ]
        }
      ],
      "source": [
        "#Menginisialisai fungsi untuk menghitung f(xi), f'(xi), xi, dan e\n",
        "def newton_raphson(f, df, xi, e):\n",
        "    #Mencetak nilai aproksimaksi awal xi\n",
        "    print(\"Nilai xi: \", xi)\n",
        "    #Kondisi, jika iterasi pertama < nilai toleransi atau |f(xi)<e|\n",
        "    if abs(f(xi)) < e:\n",
        "        #Maka kembalikan nilai xi\n",
        "        return xi\n",
        "    else:\n",
        "        #Jika kondisi awal tidak terpenuhi, maka dilanjutkan dengan perhitungan xi selanjutnya atau xi+1\n",
        "        xi = xi - f(xi)/df(xi)\n",
        "        #Hasilnya adalah mengembalikan nilai f(xi), f'(xi), xi, dan e pada iterasi selanjutnya\n",
        "        return newton_raphson(f, df, xi, e)\n",
        "\n",
        "#Definisikan f(x)\n",
        "#Lambda disini merupakan ekspresi untuk membuat fungsi\n",
        "#Dengan lambda, kita tidak perlu menggunakan def dan return untuk menginisialisasikan fungsi kembali\n",
        "fx = lambda x: ((x**2)+(3*x)-108)\n",
        "\n",
        "#Definisikan f'(x)\n",
        "f_prime = lambda x: 2*x + 3\n",
        "\n",
        "#Masukkan nilai aproksimaksi awal (xi)\n",
        "n = float(input(\"Masukkan Nilai Aproksimaksi Awal: \"))\n",
        "\n",
        "#Pemanggilan fungsi Newton Raphson\n",
        "#1e-3 artinya 10**-3 (10 pangkat -3) -> 0,001\n",
        "estimate = newton_raphson(fx, f_prime, n, 1e-3)\n",
        "\n",
        "#Mencetak akar persamaan yang dihasilkan, yaitu nilai xi terakhir yang diperoleh dari hasil perhitungan fungsi Newton Raphson\n",
        "#maka dihasilkan akar pendekatan dengan xi terakhir dengan estimasi -> 4,000...\n",
        "print (\"estimate = %.3f\" % estimate)"
      ]
    }
  ],
  "metadata": {
    "colab": {
      "collapsed_sections": [],
      "provenance": []
    },
    "kernelspec": {
      "display_name": "Python 3.10.8 64-bit (microsoft store)",
      "language": "python",
      "name": "python3"
    },
    "language_info": {
      "codemirror_mode": {
        "name": "ipython",
        "version": 3
      },
      "file_extension": ".py",
      "mimetype": "text/x-python",
      "name": "python",
      "nbconvert_exporter": "python",
      "pygments_lexer": "ipython3",
      "version": "3.10.8"
    },
    "vscode": {
      "interpreter": {
        "hash": "ba37d69516b96b2df66115ef342e83722e1a1518f5d2e0ee41eb08141fa2fe2a"
      }
    }
  },
  "nbformat": 4,
  "nbformat_minor": 0
}
