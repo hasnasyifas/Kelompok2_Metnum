{
  "nbformat": 4,
  "nbformat_minor": 0,
  "metadata": {
    "colab": {
      "provenance": []
    },
    "kernelspec": {
      "name": "python3",
      "display_name": "Python 3"
    },
    "language_info": {
      "name": "python"
    }
  },
  "cells": [
    {
      "cell_type": "code",
      "execution_count": null,
      "metadata": {
        "id": "i36_eRSlpT0h"
      },
      "outputs": [],
      "source": [
        "#Nama : Siti Nur Mu'arivah\n",
        "#NIM  : 2000345\n",
        "#Kelompok 2\n",
        "#Metode Numerik_SPL Dengan Metode Gauss Seidel\n",
        "\n",
        "# Defini Matriks yang akan diselesaikan\n",
        "f1 = lambda x, y, z: (17 - y + 2 * z) / 20\n",
        "f2 = lambda x, y, z: (-18 - 3 * x + z) / 20\n",
        "f3 = lambda x, y, z: (25 - 2 * x + 3 * y) / 20\n",
        "\n",
        "# Initial setup\n",
        "x0 = 0\n",
        "y0 = 0\n",
        "z0 = 0\n",
        "count = 1\n",
        "\n",
        "# Memasukkan nilai Galat yang diinginkan\n",
        "e = float(input('Enter tolerable error: '))\n",
        "\n",
        "# Implementasi Gauss Seidel\n",
        "print('\\nCount\\tx\\ty\\tz\\n')\n",
        "\n",
        "condition = True\n",
        "\n",
        "while condition:\n",
        "    x1 = f1(x0, y0, z0)\n",
        "    y1 = f2(x1, y0, z0)\n",
        "    z1 = f3(x1, y1, z0)\n",
        "    print('%d\\t%0.4f\\t%0.4f\\t%0.4f\\n' % (count, x1, y1, z1))\n",
        "    e1 = abs(x0 - x1);\n",
        "    e2 = abs(y0 - y1);\n",
        "    e3 = abs(z0 - z1);\n",
        "\n",
        "    count += 1\n",
        "    x0 = x1\n",
        "    y0 = y1\n",
        "    z0 = z1\n",
        "\n",
        "    condition = e1 > e and e2 > e and e3 > e\n",
        "\n",
        "#Print Output penyelesaian\n",
        "print('\\nSolution: x=%0.3f, y=%0.3f and z = %0.3f\\n' % (x1, y1, z1))"
      ]
    }
  ]
}